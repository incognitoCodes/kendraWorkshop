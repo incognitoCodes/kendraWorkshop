{
 "cells": [
  {
   "cell_type": "markdown",
   "id": "5e56a75a-607c-4122-9eb2-e3679a6f55c8",
   "metadata": {},
   "source": [
    "## Refining Kendra Output with Language Models"
   ]
  },
  {
   "cell_type": "markdown",
   "id": "dcb0c76d-6ad0-4691-8ac3-842c776dd807",
   "metadata": {},
   "source": [
    "In this notebook, we will use an existing Amazon Kendra Index and refine it with a language model from Hugging Face model hub. \n",
    "We will use a Question Answering model here, which will take the output from Kendra query and extract a more precise answer from Amazon Kendra output text."
   ]
  },
  {
   "cell_type": "code",
   "execution_count": 2,
   "id": "2f3bddae-1fac-49ca-aae8-a9d058b993f9",
   "metadata": {
    "tags": []
   },
   "outputs": [],
   "source": [
    "import boto3\n",
    "from PIL import Image\n",
    "import json\n",
    "import html\n",
    "import sagemaker\n",
    "\n",
    "s3=boto3.resource('s3')\n",
    "region = boto3.session.Session().region_name\n",
    "role = sagemaker.get_execution_role()\n",
    "\n",
    "s3Bucket = sagemaker.Session().default_bucket()"
   ]
  },
  {
   "cell_type": "code",
   "execution_count": 3,
   "id": "9543edfc-ccf7-4c0a-924d-607d75619c46",
   "metadata": {
    "tags": []
   },
   "outputs": [],
   "source": [
    "# Define Kendra client\n",
    "kendra = boto3.client('kendra')"
   ]
  },
  {
   "cell_type": "code",
   "execution_count": 4,
   "id": "d8fd1dad-646f-403d-b5e7-e6b87ff53a16",
   "metadata": {
    "tags": []
   },
   "outputs": [],
   "source": [
    "indexId = '884609ed-c06c-452f-9383-b708df745995'   #remember to change to your index ID here"
   ]
  },
  {
   "cell_type": "code",
   "execution_count": 5,
   "id": "211726e8-3e1f-48d5-a364-4eaba8f4d046",
   "metadata": {
    "tags": []
   },
   "outputs": [],
   "source": [
    "query='What is the purpose of SageMaker GroundTruth'"
   ]
  },
  {
   "cell_type": "code",
   "execution_count": 6,
   "id": "813d6c35-1cfe-4660-a330-1af224de7081",
   "metadata": {
    "tags": []
   },
   "outputs": [],
   "source": [
    "response=kendra.query(\n",
    "        QueryText = query,\n",
    "        IndexId = indexId, # paste the Index ID here\n",
    ")"
   ]
  },
  {
   "cell_type": "code",
   "execution_count": 7,
   "id": "856f5d53-c82a-4ca6-99df-d6442566623e",
   "metadata": {
    "tags": []
   },
   "outputs": [
    {
     "name": "stdout",
     "output_type": "stream",
     "text": [
      "Type: ANSWER\n",
      "Document Category: Machine Learning\n",
      "\n",
      "Amazon SageMaker \n",
      "\n",
      "\n",
      "Amazon SageMaker is a fully-managed machine learning (ML) service that enables \n",
      "\n",
      "\n",
      "developers and data scientists to quickly and easily build, train, and deploy machine \n",
      "\n",
      "\n",
      "learning models at any scale. Amazon SageMaker Ground Truth helps build training \n",
      "\n",
      "\n",
      "data sets quickly and accurately using an active learning model to label data, combining \n",
      "\n",
      "\n",
      "machine learning and human interaction to make the model progressively better.  \n",
      "\n",
      "\n",
      "SageMaker provides fully-managed and pre-built Jupyter notebooks to address \n",
      "\n",
      "\n",
      "common use cases. The services come with multiple built-in, high-performance \n",
      "\n",
      "\n",
      "algorithms, and there is the AWS Marketplace for Machine Learning containing more \n",
      "\n",
      "\n",
      "than 100 additional pre-trained ML models and algorithms. You can also bring your own \n",
      "\n",
      "\n",
      "algorithms and frameworks that are built into a Docker container.\n",
      "-----------------------------------\n"
     ]
    }
   ],
   "source": [
    "for query_result in response['ResultItems']:\n",
    "        \n",
    "        if query_result['Type']=='QUESTION_ANSWER':\n",
    "            document_text = query_result['AdditionalAttributes'][1]['Value']['TextWithHighlightsValue']['Text']\n",
    "            print('Type: ' + str(query_result['Type']))\n",
    "            for item in query_result['DocumentAttributes']:\n",
    "                if item['Key']=='_category':\n",
    "                    print('Document Category: ' + item['Value']['StringValue']+'\\n')\n",
    "            print(document_text)\n",
    "            print('-----------------------------------')\n",
    "            break\n",
    "\n",
    "        elif query_result['Type']=='ANSWER':\n",
    "            document_text = query_result['AdditionalAttributes'][0]['Value']['TextWithHighlightsValue']['Text']\n",
    "            print('Type: ' + str(query_result['Type']))\n",
    "            for item in query_result['DocumentAttributes']:\n",
    "                if item['Key']=='_category':\n",
    "                    print('Document Category: ' + item['Value']['StringValue']+'\\n')\n",
    "            print(document_text)                        \n",
    "            print('-----------------------------------')\n",
    "            break\n",
    "            \n",
    "        elif query_result['Type']=='DOCUMENT':\n",
    "            document_text = query_result['DocumentExcerpt']['Text']\n",
    "            print('Type: ' + str(query_result['Type']))\n",
    "            for item in query_result['DocumentAttributes']:\n",
    "                if item['Key']=='_category':\n",
    "                    print('Document Category: ' + item['Value']['StringValue']+'\\n')\n",
    "            print(document_text)\n",
    "            print('-----------------------------------')            "
   ]
  },
  {
   "cell_type": "code",
   "execution_count": 8,
   "id": "a061af42-3716-4697-9bc9-849724be3e26",
   "metadata": {
    "tags": []
   },
   "outputs": [
    {
     "data": {
      "text/plain": [
       "'Amazon SageMaker \\n\\n\\nAmazon SageMaker is a fully-managed machine learning (ML) service that enables \\n\\n\\ndevelopers and data scientists to quickly and easily build, train, and deploy machine \\n\\n\\nlearning models at any scale. Amazon SageMaker Ground Truth helps build training \\n\\n\\ndata sets quickly and accurately using an active learning model to label data, combining \\n\\n\\nmachine learning and human interaction to make the model progressively better.  \\n\\n\\nSageMaker provides fully-managed and pre-built Jupyter notebooks to address \\n\\n\\ncommon use cases. The services come with multiple built-in, high-performance \\n\\n\\nalgorithms, and there is the AWS Marketplace for Machine Learning containing more \\n\\n\\nthan 100 additional pre-trained ML models and algorithms. You can also bring your own \\n\\n\\nalgorithms and frameworks that are built into a Docker container.'"
      ]
     },
     "execution_count": 8,
     "metadata": {},
     "output_type": "execute_result"
    }
   ],
   "source": [
    "document_text"
   ]
  },
  {
   "cell_type": "code",
   "execution_count": 9,
   "id": "502e7ed3-a508-4d36-97be-96571bead06e",
   "metadata": {
    "tags": []
   },
   "outputs": [
    {
     "name": "stdout",
     "output_type": "stream",
     "text": [
      "----!"
     ]
    }
   ],
   "source": [
    "from sagemaker.huggingface import HuggingFaceModel\n",
    "import sagemaker\n",
    "\n",
    "role = sagemaker.get_execution_role()\n",
    "\n",
    "# Hub Model configuration. https://huggingface.co/models\n",
    "hub = {\n",
    "\t'HF_MODEL_ID':'Qiliang/bart-large-cnn-samsum-ChatGPT_v3',\n",
    "\t'HF_TASK':'text2text-generation'\n",
    "}\n",
    "\n",
    "# create Hugging Face Model Class\n",
    "huggingface_model = HuggingFaceModel(\n",
    "\ttransformers_version='4.17.0',\n",
    "\tpytorch_version='1.10.2',\n",
    "\tpy_version='py38',\n",
    "\tenv=hub,\n",
    "\trole=role, \n",
    ")\n",
    "\n",
    "# deploy model to SageMaker Inference\n",
    "predictor = huggingface_model.deploy(\n",
    "\tinitial_instance_count=1, # number of instances\n",
    "\tinstance_type='ml.m5.4xlarge' # ec2 instance type\n",
    ")"
   ]
  },
  {
   "cell_type": "code",
   "execution_count": 10,
   "id": "cd8a9f70-aec2-4783-ab57-bab83b3224a6",
   "metadata": {
    "tags": []
   },
   "outputs": [
    {
     "data": {
      "text/plain": [
       "[{'generated_text': 'The purpose of Amazon SageMaker GroundTruth is to help developers and data scientists build, train, and deploy machine learning models at any scale. The service provides fully-managed and pre-built Jupyter notebooks to address common use cases, as well as multiple built-in, high-performance algorithms. There is also the AWS Marketplace for Machine Learning containing more than 100 additional pre-trained ML models and algorithms.'}]"
      ]
     },
     "execution_count": 10,
     "metadata": {},
     "output_type": "execute_result"
    }
   ],
   "source": [
    "context = document_text.replace(\"\\n\",\"\")\n",
    "question = query\n",
    "predictor.predict({\"inputs\": \"context:\"+ context + \"question: \"+ question})"
   ]
  },
  {
   "cell_type": "code",
   "execution_count": 11,
   "id": "75306404-cca6-40e5-bcd3-f23da2627a2e",
   "metadata": {
    "tags": []
   },
   "outputs": [],
   "source": [
    "query = \"What are the benefits of using SageMaker\""
   ]
  },
  {
   "cell_type": "code",
   "execution_count": 12,
   "id": "d350da5c-d9f7-42ed-b36d-242cea157a25",
   "metadata": {
    "tags": []
   },
   "outputs": [
    {
     "name": "stdout",
     "output_type": "stream",
     "text": [
      "Type: ANSWER\n",
      "Document Category: Machine Learning\n",
      "\n",
      "Amazon SageMaker \n",
      "\n",
      "\n",
      "Amazon SageMaker is a fully-managed machine learning (ML) service that enables \n",
      "\n",
      "\n",
      "developers and data scientists to quickly and easily build, train, and deploy machine \n",
      "\n",
      "\n",
      "learning models at any scale. Amazon SageMaker Ground Truth helps build training \n",
      "\n",
      "\n",
      "data sets quickly and accurately using an active learning model to label data, combining \n",
      "\n",
      "\n",
      "machine learning and human interaction to make the model progressively better.  \n",
      "\n",
      "\n",
      "SageMaker provides fully-managed and pre-built Jupyter notebooks to address \n",
      "\n",
      "\n",
      "common use cases. The services come with multiple built-in, high-performance \n",
      "\n",
      "\n",
      "algorithms, and there is the AWS Marketplace for Machine Learning containing more \n",
      "\n",
      "\n",
      "than 100 additional pre-trained ML models and algorithms. You can also bring your own \n",
      "\n",
      "\n",
      "algorithms and frameworks that are built into a Docker container.\n",
      "-----------------------------------\n"
     ]
    }
   ],
   "source": [
    "for query_result in response['ResultItems']:\n",
    "        \n",
    "        if query_result['Type']=='QUESTION_ANSWER':\n",
    "            document_text = query_result['AdditionalAttributes'][1]['Value']['TextWithHighlightsValue']['Text']\n",
    "            print('Type: ' + str(query_result['Type']))\n",
    "            for item in query_result['DocumentAttributes']:\n",
    "                if item['Key']=='_category':\n",
    "                    print('Document Category: ' + item['Value']['StringValue']+'\\n')\n",
    "            print(document_text)\n",
    "            print('-----------------------------------')\n",
    "            break\n",
    "\n",
    "        elif query_result['Type']=='ANSWER':\n",
    "            document_text = query_result['AdditionalAttributes'][0]['Value']['TextWithHighlightsValue']['Text']\n",
    "            print('Type: ' + str(query_result['Type']))\n",
    "            for item in query_result['DocumentAttributes']:\n",
    "                if item['Key']=='_category':\n",
    "                    print('Document Category: ' + item['Value']['StringValue']+'\\n')\n",
    "            print(document_text)                        \n",
    "            print('-----------------------------------')\n",
    "            break\n",
    "            \n",
    "        elif query_result['Type']=='DOCUMENT':\n",
    "            document_text = query_result['DocumentExcerpt']['Text']\n",
    "            print('Type: ' + str(query_result['Type']))\n",
    "            for item in query_result['DocumentAttributes']:\n",
    "                if item['Key']=='_category':\n",
    "                    print('Document Category: ' + item['Value']['StringValue']+'\\n')\n",
    "            print(document_text)\n",
    "            print('-----------------------------------')            "
   ]
  },
  {
   "cell_type": "code",
   "execution_count": 14,
   "id": "cb5fbc44-386f-4c2a-95aa-c6e1d7d79872",
   "metadata": {
    "tags": []
   },
   "outputs": [
    {
     "data": {
      "text/plain": [
       "'The Amazon SageMaker service is a fully-managed machine learning (ML) service that enables developers and data scientists to build, train, and deploy machine learning models at any scale. The service provides pre-built Jupyter notebooks to address common use cases and comes with multiple built-in, high-performance algorithms. There is also the AWS Marketplace for Machine Learning containing more than 100 additional pre-trained ML models and algorithms.'"
      ]
     },
     "execution_count": 14,
     "metadata": {},
     "output_type": "execute_result"
    }
   ],
   "source": [
    "context = document_text.replace(\"\\n\",\"\")\n",
    "question = query\n",
    "response_LM = predictor.predict({\"inputs\": \"context:\"+ context + \"question: \"+ question})\n",
    "response_LM[0]['generated_text']"
   ]
  },
  {
   "cell_type": "code",
   "execution_count": 17,
   "id": "b6c706f3-fc51-4dcc-b4e2-d1a2ee3236be",
   "metadata": {
    "tags": []
   },
   "outputs": [
    {
     "name": "stderr",
     "output_type": "stream",
     "text": [
      "The endpoint attribute has been renamed in sagemaker>=2.\n",
      "See: https://sagemaker.readthedocs.io/en/stable/v2.html for details.\n"
     ]
    },
    {
     "data": {
      "text/plain": [
       "'huggingface-pytorch-inference-2023-03-27-14-38-49-570'"
      ]
     },
     "execution_count": 17,
     "metadata": {},
     "output_type": "execute_result"
    }
   ],
   "source": [
    "endpoint_name = predictor.endpoint\n",
    "endpoint_name"
   ]
  },
  {
   "cell_type": "code",
   "execution_count": null,
   "id": "add0f13c-3012-413f-ba86-b29ebf52d347",
   "metadata": {},
   "outputs": [],
   "source": []
  }
 ],
 "metadata": {
  "availableInstances": [
   {
    "_defaultOrder": 0,
    "_isFastLaunch": true,
    "category": "General purpose",
    "gpuNum": 0,
    "hideHardwareSpecs": false,
    "memoryGiB": 4,
    "name": "ml.t3.medium",
    "vcpuNum": 2
   },
   {
    "_defaultOrder": 1,
    "_isFastLaunch": false,
    "category": "General purpose",
    "gpuNum": 0,
    "hideHardwareSpecs": false,
    "memoryGiB": 8,
    "name": "ml.t3.large",
    "vcpuNum": 2
   },
   {
    "_defaultOrder": 2,
    "_isFastLaunch": false,
    "category": "General purpose",
    "gpuNum": 0,
    "hideHardwareSpecs": false,
    "memoryGiB": 16,
    "name": "ml.t3.xlarge",
    "vcpuNum": 4
   },
   {
    "_defaultOrder": 3,
    "_isFastLaunch": false,
    "category": "General purpose",
    "gpuNum": 0,
    "hideHardwareSpecs": false,
    "memoryGiB": 32,
    "name": "ml.t3.2xlarge",
    "vcpuNum": 8
   },
   {
    "_defaultOrder": 4,
    "_isFastLaunch": true,
    "category": "General purpose",
    "gpuNum": 0,
    "hideHardwareSpecs": false,
    "memoryGiB": 8,
    "name": "ml.m5.large",
    "vcpuNum": 2
   },
   {
    "_defaultOrder": 5,
    "_isFastLaunch": false,
    "category": "General purpose",
    "gpuNum": 0,
    "hideHardwareSpecs": false,
    "memoryGiB": 16,
    "name": "ml.m5.xlarge",
    "vcpuNum": 4
   },
   {
    "_defaultOrder": 6,
    "_isFastLaunch": false,
    "category": "General purpose",
    "gpuNum": 0,
    "hideHardwareSpecs": false,
    "memoryGiB": 32,
    "name": "ml.m5.2xlarge",
    "vcpuNum": 8
   },
   {
    "_defaultOrder": 7,
    "_isFastLaunch": false,
    "category": "General purpose",
    "gpuNum": 0,
    "hideHardwareSpecs": false,
    "memoryGiB": 64,
    "name": "ml.m5.4xlarge",
    "vcpuNum": 16
   },
   {
    "_defaultOrder": 8,
    "_isFastLaunch": false,
    "category": "General purpose",
    "gpuNum": 0,
    "hideHardwareSpecs": false,
    "memoryGiB": 128,
    "name": "ml.m5.8xlarge",
    "vcpuNum": 32
   },
   {
    "_defaultOrder": 9,
    "_isFastLaunch": false,
    "category": "General purpose",
    "gpuNum": 0,
    "hideHardwareSpecs": false,
    "memoryGiB": 192,
    "name": "ml.m5.12xlarge",
    "vcpuNum": 48
   },
   {
    "_defaultOrder": 10,
    "_isFastLaunch": false,
    "category": "General purpose",
    "gpuNum": 0,
    "hideHardwareSpecs": false,
    "memoryGiB": 256,
    "name": "ml.m5.16xlarge",
    "vcpuNum": 64
   },
   {
    "_defaultOrder": 11,
    "_isFastLaunch": false,
    "category": "General purpose",
    "gpuNum": 0,
    "hideHardwareSpecs": false,
    "memoryGiB": 384,
    "name": "ml.m5.24xlarge",
    "vcpuNum": 96
   },
   {
    "_defaultOrder": 12,
    "_isFastLaunch": false,
    "category": "General purpose",
    "gpuNum": 0,
    "hideHardwareSpecs": false,
    "memoryGiB": 8,
    "name": "ml.m5d.large",
    "vcpuNum": 2
   },
   {
    "_defaultOrder": 13,
    "_isFastLaunch": false,
    "category": "General purpose",
    "gpuNum": 0,
    "hideHardwareSpecs": false,
    "memoryGiB": 16,
    "name": "ml.m5d.xlarge",
    "vcpuNum": 4
   },
   {
    "_defaultOrder": 14,
    "_isFastLaunch": false,
    "category": "General purpose",
    "gpuNum": 0,
    "hideHardwareSpecs": false,
    "memoryGiB": 32,
    "name": "ml.m5d.2xlarge",
    "vcpuNum": 8
   },
   {
    "_defaultOrder": 15,
    "_isFastLaunch": false,
    "category": "General purpose",
    "gpuNum": 0,
    "hideHardwareSpecs": false,
    "memoryGiB": 64,
    "name": "ml.m5d.4xlarge",
    "vcpuNum": 16
   },
   {
    "_defaultOrder": 16,
    "_isFastLaunch": false,
    "category": "General purpose",
    "gpuNum": 0,
    "hideHardwareSpecs": false,
    "memoryGiB": 128,
    "name": "ml.m5d.8xlarge",
    "vcpuNum": 32
   },
   {
    "_defaultOrder": 17,
    "_isFastLaunch": false,
    "category": "General purpose",
    "gpuNum": 0,
    "hideHardwareSpecs": false,
    "memoryGiB": 192,
    "name": "ml.m5d.12xlarge",
    "vcpuNum": 48
   },
   {
    "_defaultOrder": 18,
    "_isFastLaunch": false,
    "category": "General purpose",
    "gpuNum": 0,
    "hideHardwareSpecs": false,
    "memoryGiB": 256,
    "name": "ml.m5d.16xlarge",
    "vcpuNum": 64
   },
   {
    "_defaultOrder": 19,
    "_isFastLaunch": false,
    "category": "General purpose",
    "gpuNum": 0,
    "hideHardwareSpecs": false,
    "memoryGiB": 384,
    "name": "ml.m5d.24xlarge",
    "vcpuNum": 96
   },
   {
    "_defaultOrder": 20,
    "_isFastLaunch": false,
    "category": "General purpose",
    "gpuNum": 0,
    "hideHardwareSpecs": true,
    "memoryGiB": 0,
    "name": "ml.geospatial.interactive",
    "supportedImageNames": [
     "sagemaker-geospatial-v1-0"
    ],
    "vcpuNum": 0
   },
   {
    "_defaultOrder": 21,
    "_isFastLaunch": true,
    "category": "Compute optimized",
    "gpuNum": 0,
    "hideHardwareSpecs": false,
    "memoryGiB": 4,
    "name": "ml.c5.large",
    "vcpuNum": 2
   },
   {
    "_defaultOrder": 22,
    "_isFastLaunch": false,
    "category": "Compute optimized",
    "gpuNum": 0,
    "hideHardwareSpecs": false,
    "memoryGiB": 8,
    "name": "ml.c5.xlarge",
    "vcpuNum": 4
   },
   {
    "_defaultOrder": 23,
    "_isFastLaunch": false,
    "category": "Compute optimized",
    "gpuNum": 0,
    "hideHardwareSpecs": false,
    "memoryGiB": 16,
    "name": "ml.c5.2xlarge",
    "vcpuNum": 8
   },
   {
    "_defaultOrder": 24,
    "_isFastLaunch": false,
    "category": "Compute optimized",
    "gpuNum": 0,
    "hideHardwareSpecs": false,
    "memoryGiB": 32,
    "name": "ml.c5.4xlarge",
    "vcpuNum": 16
   },
   {
    "_defaultOrder": 25,
    "_isFastLaunch": false,
    "category": "Compute optimized",
    "gpuNum": 0,
    "hideHardwareSpecs": false,
    "memoryGiB": 72,
    "name": "ml.c5.9xlarge",
    "vcpuNum": 36
   },
   {
    "_defaultOrder": 26,
    "_isFastLaunch": false,
    "category": "Compute optimized",
    "gpuNum": 0,
    "hideHardwareSpecs": false,
    "memoryGiB": 96,
    "name": "ml.c5.12xlarge",
    "vcpuNum": 48
   },
   {
    "_defaultOrder": 27,
    "_isFastLaunch": false,
    "category": "Compute optimized",
    "gpuNum": 0,
    "hideHardwareSpecs": false,
    "memoryGiB": 144,
    "name": "ml.c5.18xlarge",
    "vcpuNum": 72
   },
   {
    "_defaultOrder": 28,
    "_isFastLaunch": false,
    "category": "Compute optimized",
    "gpuNum": 0,
    "hideHardwareSpecs": false,
    "memoryGiB": 192,
    "name": "ml.c5.24xlarge",
    "vcpuNum": 96
   },
   {
    "_defaultOrder": 29,
    "_isFastLaunch": true,
    "category": "Accelerated computing",
    "gpuNum": 1,
    "hideHardwareSpecs": false,
    "memoryGiB": 16,
    "name": "ml.g4dn.xlarge",
    "vcpuNum": 4
   },
   {
    "_defaultOrder": 30,
    "_isFastLaunch": false,
    "category": "Accelerated computing",
    "gpuNum": 1,
    "hideHardwareSpecs": false,
    "memoryGiB": 32,
    "name": "ml.g4dn.2xlarge",
    "vcpuNum": 8
   },
   {
    "_defaultOrder": 31,
    "_isFastLaunch": false,
    "category": "Accelerated computing",
    "gpuNum": 1,
    "hideHardwareSpecs": false,
    "memoryGiB": 64,
    "name": "ml.g4dn.4xlarge",
    "vcpuNum": 16
   },
   {
    "_defaultOrder": 32,
    "_isFastLaunch": false,
    "category": "Accelerated computing",
    "gpuNum": 1,
    "hideHardwareSpecs": false,
    "memoryGiB": 128,
    "name": "ml.g4dn.8xlarge",
    "vcpuNum": 32
   },
   {
    "_defaultOrder": 33,
    "_isFastLaunch": false,
    "category": "Accelerated computing",
    "gpuNum": 4,
    "hideHardwareSpecs": false,
    "memoryGiB": 192,
    "name": "ml.g4dn.12xlarge",
    "vcpuNum": 48
   },
   {
    "_defaultOrder": 34,
    "_isFastLaunch": false,
    "category": "Accelerated computing",
    "gpuNum": 1,
    "hideHardwareSpecs": false,
    "memoryGiB": 256,
    "name": "ml.g4dn.16xlarge",
    "vcpuNum": 64
   },
   {
    "_defaultOrder": 35,
    "_isFastLaunch": false,
    "category": "Accelerated computing",
    "gpuNum": 1,
    "hideHardwareSpecs": false,
    "memoryGiB": 61,
    "name": "ml.p3.2xlarge",
    "vcpuNum": 8
   },
   {
    "_defaultOrder": 36,
    "_isFastLaunch": false,
    "category": "Accelerated computing",
    "gpuNum": 4,
    "hideHardwareSpecs": false,
    "memoryGiB": 244,
    "name": "ml.p3.8xlarge",
    "vcpuNum": 32
   },
   {
    "_defaultOrder": 37,
    "_isFastLaunch": false,
    "category": "Accelerated computing",
    "gpuNum": 8,
    "hideHardwareSpecs": false,
    "memoryGiB": 488,
    "name": "ml.p3.16xlarge",
    "vcpuNum": 64
   },
   {
    "_defaultOrder": 38,
    "_isFastLaunch": false,
    "category": "Accelerated computing",
    "gpuNum": 8,
    "hideHardwareSpecs": false,
    "memoryGiB": 768,
    "name": "ml.p3dn.24xlarge",
    "vcpuNum": 96
   },
   {
    "_defaultOrder": 39,
    "_isFastLaunch": false,
    "category": "Memory Optimized",
    "gpuNum": 0,
    "hideHardwareSpecs": false,
    "memoryGiB": 16,
    "name": "ml.r5.large",
    "vcpuNum": 2
   },
   {
    "_defaultOrder": 40,
    "_isFastLaunch": false,
    "category": "Memory Optimized",
    "gpuNum": 0,
    "hideHardwareSpecs": false,
    "memoryGiB": 32,
    "name": "ml.r5.xlarge",
    "vcpuNum": 4
   },
   {
    "_defaultOrder": 41,
    "_isFastLaunch": false,
    "category": "Memory Optimized",
    "gpuNum": 0,
    "hideHardwareSpecs": false,
    "memoryGiB": 64,
    "name": "ml.r5.2xlarge",
    "vcpuNum": 8
   },
   {
    "_defaultOrder": 42,
    "_isFastLaunch": false,
    "category": "Memory Optimized",
    "gpuNum": 0,
    "hideHardwareSpecs": false,
    "memoryGiB": 128,
    "name": "ml.r5.4xlarge",
    "vcpuNum": 16
   },
   {
    "_defaultOrder": 43,
    "_isFastLaunch": false,
    "category": "Memory Optimized",
    "gpuNum": 0,
    "hideHardwareSpecs": false,
    "memoryGiB": 256,
    "name": "ml.r5.8xlarge",
    "vcpuNum": 32
   },
   {
    "_defaultOrder": 44,
    "_isFastLaunch": false,
    "category": "Memory Optimized",
    "gpuNum": 0,
    "hideHardwareSpecs": false,
    "memoryGiB": 384,
    "name": "ml.r5.12xlarge",
    "vcpuNum": 48
   },
   {
    "_defaultOrder": 45,
    "_isFastLaunch": false,
    "category": "Memory Optimized",
    "gpuNum": 0,
    "hideHardwareSpecs": false,
    "memoryGiB": 512,
    "name": "ml.r5.16xlarge",
    "vcpuNum": 64
   },
   {
    "_defaultOrder": 46,
    "_isFastLaunch": false,
    "category": "Memory Optimized",
    "gpuNum": 0,
    "hideHardwareSpecs": false,
    "memoryGiB": 768,
    "name": "ml.r5.24xlarge",
    "vcpuNum": 96
   },
   {
    "_defaultOrder": 47,
    "_isFastLaunch": false,
    "category": "Accelerated computing",
    "gpuNum": 1,
    "hideHardwareSpecs": false,
    "memoryGiB": 16,
    "name": "ml.g5.xlarge",
    "vcpuNum": 4
   },
   {
    "_defaultOrder": 48,
    "_isFastLaunch": false,
    "category": "Accelerated computing",
    "gpuNum": 1,
    "hideHardwareSpecs": false,
    "memoryGiB": 32,
    "name": "ml.g5.2xlarge",
    "vcpuNum": 8
   },
   {
    "_defaultOrder": 49,
    "_isFastLaunch": false,
    "category": "Accelerated computing",
    "gpuNum": 1,
    "hideHardwareSpecs": false,
    "memoryGiB": 64,
    "name": "ml.g5.4xlarge",
    "vcpuNum": 16
   },
   {
    "_defaultOrder": 50,
    "_isFastLaunch": false,
    "category": "Accelerated computing",
    "gpuNum": 1,
    "hideHardwareSpecs": false,
    "memoryGiB": 128,
    "name": "ml.g5.8xlarge",
    "vcpuNum": 32
   },
   {
    "_defaultOrder": 51,
    "_isFastLaunch": false,
    "category": "Accelerated computing",
    "gpuNum": 1,
    "hideHardwareSpecs": false,
    "memoryGiB": 256,
    "name": "ml.g5.16xlarge",
    "vcpuNum": 64
   },
   {
    "_defaultOrder": 52,
    "_isFastLaunch": false,
    "category": "Accelerated computing",
    "gpuNum": 4,
    "hideHardwareSpecs": false,
    "memoryGiB": 192,
    "name": "ml.g5.12xlarge",
    "vcpuNum": 48
   },
   {
    "_defaultOrder": 53,
    "_isFastLaunch": false,
    "category": "Accelerated computing",
    "gpuNum": 4,
    "hideHardwareSpecs": false,
    "memoryGiB": 384,
    "name": "ml.g5.24xlarge",
    "vcpuNum": 96
   },
   {
    "_defaultOrder": 54,
    "_isFastLaunch": false,
    "category": "Accelerated computing",
    "gpuNum": 8,
    "hideHardwareSpecs": false,
    "memoryGiB": 768,
    "name": "ml.g5.48xlarge",
    "vcpuNum": 192
   }
  ],
  "instance_type": "ml.t3.medium",
  "kernelspec": {
   "display_name": "Python 3 (Data Science)",
   "language": "python",
   "name": "python3__SAGEMAKER_INTERNAL__arn:aws:sagemaker:us-east-1:081325390199:image/datascience-1.0"
  },
  "language_info": {
   "codemirror_mode": {
    "name": "ipython",
    "version": 3
   },
   "file_extension": ".py",
   "mimetype": "text/x-python",
   "name": "python",
   "nbconvert_exporter": "python",
   "pygments_lexer": "ipython3",
   "version": "3.7.10"
  }
 },
 "nbformat": 4,
 "nbformat_minor": 5
}
